{
 "cells": [
  {
   "cell_type": "markdown",
   "id": "intro",
   "metadata": {},
   "source": [
    "# NumPy Assignment\n",
    "Student Name: ALLAN NUWAMANYA"
   ]
  },
  {
   "cell_type": "markdown",
   "id": "numpy_intro",
   "metadata": {},
   "source": [
    "## What is NumPy, and what are some of its key features?\n",
    "\n",
    "NumPy is a fundamental Python library for numerical computations. It provides support for large, multi-dimensional arrays and matrices, along with a collection of mathematical functions to operate efficiently on these arrays.\n",
    "\n",
    "**Key features of NumPy:**\n",
    "- Efficient storage and manipulation of numerical arrays.\n",
    "- Broadcasting, which allows operations on arrays of different shapes.\n",
    "- Vectorized operations to avoid explicit loops.\n",
    "- Functions for linear algebra, statistical operations, and Fourier transforms.\n",
    "- Interoperability with other libraries like SciPy, pandas, and matplotlib."
   ]
  },
  {
   "cell_type": "markdown",
   "id": "install_numpy",
   "metadata": {},
   "source": [
    "## How to install NumPy\n",
    "\n",
    "```bash\n",
    "# Using conda\n",
    "conda install numpy\n",
    "\n",
    "# Using pip\n",
    "pip install numpy\n",
    "```"
   ]
  },
  {
   "cell_type": "markdown",
   "id": "question1",
   "metadata": {},
   "source": [
    "## 1. How do you create a NumPy array using Python's built-in `range()` function?"
   ]
  },
  {
   "cell_type": "code",
   "execution_count": null,
   "id": "q1_code",
   "metadata": {},
   "outputs": [],
   "source": [
    "import numpy as np\n",
    "arr = np.array(range(10))\n",
    "print(arr)"
   ]
  },
  {
   "cell_type": "markdown",
   "id": "question2",
   "metadata": {},
   "source": [
    "## 2. What is the difference between a scalar value and a vector in NumPy?"
   ]
  },
  {
   "cell_type": "code",
   "execution_count": null,
   "id": "q2_code",
   "metadata": {},
   "outputs": [],
   "source": [
    "scalar = np.array(5)\n",
    "vector = np.array([1, 2, 3])\n",
    "print(\"Scalar:\", scalar)\n",
    "print(\"Shape:\", scalar.shape)\n",
    "print(\"Vector:\", vector)\n",
    "print(\"Shape:\", vector.shape)"
   ]
  },
  {
   "cell_type": "markdown",
   "id": "question3",
   "metadata": {},
   "source": [
    "## 3. How do you calculate the mean of a NumPy array using the `mean()` function?"
   ]
  },
  {
   "cell_type": "code",
   "execution_count": null,
   "id": "q3_code",
   "metadata": {},
   "outputs": [],
   "source": [
    "arr = np.array([1, 2, 3, 4, 5])\n",
    "mean_value = arr.mean()\n",
    "print(\"Mean:\", mean_value)"
   ]
  },
  {
   "cell_type": "markdown",
   "id": "question4",
   "metadata": {},
   "source": [
    "## 4. What is broadcasting in NumPy, and how can it be useful?"
   ]
  },
  {
   "cell_type": "code",
   "execution_count": null,
   "id": "q4_code",
   "metadata": {},
   "outputs": [],
   "source": [
    "a = np.array([1, 2, 3])\n",
    "b = 2\n",
    "print(a + b)"
   ]
  },
  {
   "cell_type": "markdown",
   "id": "question5",
   "metadata": {},
   "source": [
    "## 5. How can you slice a NumPy array to extract a subarray?"
   ]
  },
  {
   "cell_type": "code",
   "execution_count": null,
   "id": "q5_code",
   "metadata": {},
   "outputs": [],
   "source": [
    "arr = np.array([0, 1, 2, 3, 4, 5, 6])\n",
    "subarr = arr[2:5]\n",
    "print(subarr)"
   ]
  },
  {
   "cell_type": "markdown",
   "id": "question6",
   "metadata": {},
   "source": [
    "## 6. What are some available functions for performing element-wise operations on NumPy arrays?"
   ]
  },
  {
   "cell_type": "code",
   "execution_count": null,
   "id": "q6_code",
   "metadata": {},
   "outputs": [],
   "source": [
    "arr = np.array([1, 4, 9])\n",
    "print(np.sqrt(arr))"
   ]
  },
  {
   "cell_type": "markdown",
   "id": "question7",
   "metadata": {},
   "source": [
    "## 7. How do you reshape a NumPy array to have a different shape?"
   ]
  },
  {
   "cell_type": "code",
   "execution_count": null,
   "id": "q7_code",
   "metadata": {},
   "outputs": [],
   "source": [
    "arr = np.arange(6)\n",
    "reshaped = arr.reshape(2, 3)\n",
    "print(reshaped)"
   ]
  },
  {
   "cell_type": "markdown",
   "id": "question8",
   "metadata": {},
   "source": [
    "## 8. How do you perform matrix multiplication on two NumPy arrays using the `dot()` function?"
   ]
  },
  {
   "cell_type": "code",
   "execution_count": null,
   "id": "q8_code",
   "metadata": {},
   "outputs": [],
   "source": [
    "a = np.array([[1, 2], [3, 4]])\n",
    "b = np.array([[5, 6], [7, 8]])\n",
    "result = np.dot(a, b)\n",
    "print(result)"
   ]
  },
  {
   "cell_type": "markdown",
   "id": "question9",
   "metadata": {},
   "source": [
    "## 9. How can you use the `where()` function to apply a condition to a NumPy array?"
   ]
  },
  {
   "cell_type": "code",
   "execution_count": null,
   "id": "q9_code",
   "metadata": {},
   "outputs": [],
   "source": [
    "arr = np.array([1, 2, 3, 4])\n",
    "result = np.where(arr > 2, arr, 0)\n",
    "print(result)"
   ]
  },
  {
   "cell_type": "markdown",
   "id": "question10",
   "metadata": {},
   "source": [
    "## 10. What is the difference between the `flatten()` and `ravel()` functions in NumPy?"
   ]
  },
  {
   "cell_type": "code",
   "execution_count": null,
   "id": "q10_code",
   "metadata": {},
   "outputs": [],
   "source": [
    "arr = np.array([[1, 2], [3, 4]])\n",
    "print(arr.flatten())\n",
    "print(arr.ravel())"
   ]
  },
  {
   "cell_type": "markdown",
   "id": "question11",
   "metadata": {},
   "source": [
    "## 11. How do you use NumPy's advanced indexing capabilities to select specific elements from an array?"
   ]
  },
  {
   "cell_type": "code",
   "execution_count": null,
   "id": "q11_code",
   "metadata": {},
   "outputs": [],
   "source": [
    "arr = np.array([10, 20, 30, 40, 50])\n",
    "indices = [1, 3]\n",
    "print(arr[indices])"
   ]
  },
  {
   "cell_type": "markdown",
   "id": "question12",
   "metadata": {},
   "source": [
    "## 12. How can you use NumPy's broadcasting rules to perform operations on arrays with different shapes?"
   ]
  },
  {
   "cell_type": "code",
   "execution_count": null,
   "id": "q12_code",
   "metadata": {},
   "outputs": [],
   "source": [
    "a = np.array([[1, 2, 3], [4, 5, 6]])\n",
    "b = np.array([1, 0, 1])\n",
    "print(a + b)"
   ]
  },
  {
   "cell_type": "markdown",
   "id": "project",
   "metadata": {},
   "source": [
    "# Project: Array Statistics Calculator"
   ]
  },
  {
   "cell_type": "code",
   "execution_count": null,
   "id": "project_code",
   "metadata": {},
   "outputs": [],
   "source": [
    "import numpy as np\n",
    "user_input = input(\"Enter a list of numbers separated by commas: \")\n",
    "num_list = [float(num.strip()) for num in user_input.split(\",\")]\n",
    "arr = np.array(num_list)\n",
    "print(\"Statistics for the input array:\")\n",
    "print(\"Mean:\", arr.mean())\n",
    "print(\"Median:\", np.median(arr))\n",
    "print(\"Standard Deviation:\", arr.std())\n",
    "print(\"Maximum:\", arr.max())\n",
    "print(\"Minimum:\", arr.min())"
   ]
  }
 ],
 "metadata": {
  "kernelspec": {
   "display_name": "Python 3",
   "name": "python3"
  },
  "language_info": {
   "name": "python"
  }
 },
 "nbformat": 4,
 "nbformat_minor": 5
}
