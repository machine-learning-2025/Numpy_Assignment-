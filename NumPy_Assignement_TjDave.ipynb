{
  "cells": [
    {
      "attachments": {},
      "cell_type": "markdown",
      "metadata": {
        "id": "aTz0cvx7Iex3"
      },
      "source": [
        "## Numpy Assignment\n",
        "**Student Name:** Twesigye John Davidson\n",
        "\n",
        "## Instructions:\n",
        "- Please complete the questions below.\n",
        "- For each cell, complete it with good essays and code examples.\n",
        "- Please comment your code indicating how you approached the problem."
      ]
    },
    {
      "attachments": {},
      "cell_type": "markdown",
      "metadata": {
        "id": "NwKEk4skG5c2"
      },
      "source": [
        "# What is NumPy, and what are some of its key features?"
      ]
    },
    {
      "cell_type": "markdown",
      "metadata": {},
      "source": [
        "NumPy, which stands for Numerical Python, is a fundamental library for scientific computing in Python. It provides support for large, multi-dimensional arrays and matrices, along with a collection of high-level mathematical functions to operate on these arrays efficiently.\n",
        "\n",
        "**Key Features:**\n",
        "\n",
        "* **N-dimensional Array Object (ndarray):** This is the core of NumPy. The `ndarray` is a fast and memory-efficient data structure compared to Python's built-in lists, especially for numerical operations.\n",
        "* **Broadcasting:** This feature allows NumPy to perform arithmetic operations on arrays of different shapes. It provides a powerful mechanism for vectorizing array operations, which simplifies code and improves performance.\n",
        "* **Mathematical and Statistical Functions:** NumPy contains a comprehensive library of mathematical functions for performing element-wise operations, as well as functions for linear algebra, Fourier analysis, and random number generation.\n",
        "* **Integration with Other Libraries:** NumPy serves as the foundation for many other scientific and data analysis libraries in Python, such as SciPy, Pandas, and Matplotlib."
      ]
    },
    {
      "attachments": {},
      "cell_type": "markdown",
      "metadata": {
        "id": "OMqoIR7oJD0i"
      },
      "source": [
        "# How do you create a NumPy array using Python's built-in range() function?"
      ]
    },
    {
      "cell_type": "markdown",
      "metadata": {},
      "source": [
        "While you can't create a NumPy array directly with Python's `range()` function, you can use it to generate a list of numbers first and then convert that list into a NumPy array using the `np.array()` constructor.\n",
        "\n",
        "However, the more direct and standard method in NumPy is to use the `np.arange()` function. It is similar to Python's `range()` but returns a NumPy array instead of a list."
      ]
    },
    {
      "cell_type": "code",
      "execution_count": null,
      "metadata": {},
      "outputs": [],
      "source": [
        "import numpy as np\n",
        "\n",
        "# Method 1: Using Python's range() and converting it to a NumPy array\n",
        "# First, create a list using range()\n",
        "python_list = list(range(10))\n",
        "# Then, convert the list into a NumPy array\n",
        "numpy_array_from_list = np.array(python_list)\n",
        "print(f\"Array from list: {numpy_array_from_list}\")\n",
        "\n",
        "# Method 2: The more direct NumPy approach using np.arange()\n",
        "# This is generally preferred as it's more efficient\n",
        "numpy_array_from_arange = np.arange(10)\n",
        "print(f\"Array from np.arange(): {numpy_array_from_arange}\")"
      ]
    },
    {
      "attachments": {},
      "cell_type": "markdown",
      "metadata": {
        "id": "DRVy8tPoJHQr"
      },
      "source": [
        "# What is the difference between a scalar value and a vector in NumPy?\n",
        "with code example"
      ]
    },
    {
      "cell_type": "markdown",
      "metadata": {},
      "source": [
        "In the context of NumPy, the main difference between a scalar and a vector relates to their dimensions.\n",
        "\n",
        "* A **scalar** is a single number, essentially a zero-dimensional array. It has a shape of `()` and represents a single value.\n",
        "* A **vector** is a one-dimensional array of numbers. It has a specific length and its shape is represented as `(n,)`, where `n` is the number of elements in the vector."
      ]
    },
    {
      "cell_type": "code",
      "execution_count": null,
      "metadata": {},
      "outputs": [],
      "source": [
        "import numpy as np\n",
        "\n",
        "# Creating a scalar\n",
        "# A scalar is a 0-dimensional array in NumPy\n",
        "scalar = np.array(15)\n",
        "print(f\"Scalar value: {scalar}\")\n",
        "print(f\"Shape of the scalar: {scalar.shape}\")\n",
        "print(f\"Number of dimensions: {scalar.ndim}\")\n",
        "\n",
        "print(\"-\"*30)\n",
        "\n",
        "# Creating a vector\n",
        "# A vector is a 1-dimensional array\n",
        "vector = np.array([2, 4, 6, 8, 10])\n",
        "print(f\"Vector: {vector}\")\n",
        "print(f\"Shape of the vector: {vector.shape}\")\n",
        "print(f\"Number of dimensions: {vector.ndim}\")"
      ]
    },
    {
      "attachments": {},
      "cell_type": "markdown",
      "metadata": {
        "id": "lHa-pHerJKd0"
      },
      "source": [
        "# How do you calculate the mean of a NumPy array using the mean() function?\n",
        "\n",
        "Examples \n"
      ]
    },
    {
      "cell_type": "markdown",
      "metadata": {},
      "source": [
        "You can calculate the mean (or average) of a NumPy array by using the `np.mean()` function. This function computes the arithmetic mean of all the elements in the array. You can also apply it to a specific axis of a multi-dimensional array."
      ]
    },
    {
      "cell_type": "code",
      "execution_count": 1,
      "metadata": {},
      "outputs": [
        {
          "name": "stdout",
          "output_type": "stream",
          "text": [
            "1D Array: [10 20 30 40 50]\n",
            "Mean of the 1D array: 30.0\n",
            "------------------------------\n",
            "2D Array:\n",
            "[[1 2 3]\n",
            " [4 5 6]]\n",
            "Overall mean of the 2D array: 3.5\n",
            "Mean along axis 0 (columns): [2.5 3.5 4.5]\n",
            "Mean along axis 1 (rows): [2. 5.]\n"
          ]
        }
      ],
      "source": [
        "import numpy as np\n",
        "\n",
        "# Example 1: Mean of a 1D array\n",
        "arr1d = np.array([10, 20, 30, 40, 50])\n",
        "mean_1d = np.mean(arr1d)\n",
        "print(f\"1D Array: {arr1d}\")\n",
        "print(f\"Mean of the 1D array: {mean_1d}\")\n",
        "\n",
        "print(\"-\"*30)\n",
        "\n",
        "# Example 2: Mean of a 2D array\n",
        "arr2d = np.array([[1, 2, 3], [4, 5, 6]])\n",
        "print(f\"2D Array:\\n{arr2d}\")\n",
        "\n",
        "# Calculate the mean of all elements in the 2D array\n",
        "total_mean = np.mean(arr2d)\n",
        "print(f\"Overall mean of the 2D array: {total_mean}\")\n",
        "\n",
        "# Calculate the mean along a specific axis\n",
        "# axis=0 calculates the mean of each column\n",
        "mean_axis0 = np.mean(arr2d, axis=0)\n",
        "print(f\"Mean along axis 0 (columns): {mean_axis0}\")\n",
        "\n",
        "# axis=1 calculates the mean of each row\n",
        "mean_axis1 = np.mean(arr2d, axis=1)\n",
        "print(f\"Mean along axis 1 (rows): {mean_axis1}\")"
      ]
    },
    {
      "attachments": {},
      "cell_type": "markdown",
      "metadata": {
        "id": "EqpLGTh8JON9"
      },
      "source": [
        "# What is broadcasting in NumPy, and how can it be useful?"
      ]
    },
    {
      "cell_type": "markdown",
      "metadata": {},
      "source": [
        "Broadcasting is a powerful mechanism in NumPy that allows for arithmetic operations to be performed on arrays of different shapes. When performing an operation between two arrays, NumPy compares their shapes. If the dimensions are compatible, it \"broadcasts\" the smaller array across the larger array so that they have compatible shapes.\n",
        "\n",
        "**Usefulness:**\n",
        "Broadcasting is incredibly useful because it avoids the need to create explicit copies of data to match array shapes, which leads to more efficient memory usage. It also allows for more concise and readable code, as it vectorizes operations and eliminates the need for explicit loops."
      ]
    },
    {
      "cell_type": "code",
      "execution_count": null,
      "metadata": {},
      "outputs": [],
      "source": [
        "import numpy as np\n",
        "\n",
        "# Create a 2D array (matrix)\n",
        "matrix = np.array([[1, 2, 3], \n",
        "                     [4, 5, 6], \n",
        "                     [7, 8, 9]])\n",
        "\n",
        "# Create a 1D array (vector)\n",
        "vector = np.array([10, 20, 30])\n",
        "\n",
        "# Without broadcasting, we would need to tile the vector to match the matrix shape\n",
        "# Tiled vector would look like:\n",
        "# [[10, 20, 30],\n",
        "#  [10, 20, 30],\n",
        "#  [10, 20, 30]]\n",
        "\n",
        "# With broadcasting, NumPy handles this automatically\n",
        "# The vector is 'broadcast' across each row of the matrix\n",
        "result = matrix + vector\n",
        "\n",
        "print(\"Matrix:\")\n",
        "print(matrix)\n",
        "print(\"\\nVector:\")\n",
        "print(vector)\n",
        "print(\"\\nResult of matrix + vector (with broadcasting):\")\n",
        "print(result)"
      ]
    },
    {
      "attachments": {},
      "cell_type": "markdown",
      "metadata": {},
      "source": [
        "# How can you slice a NumPy array to extract a subarray?"
      ]
    },
    {
      "cell_type": "markdown",
      "metadata": {},
      "source": [
        "Slicing in NumPy is similar to slicing Python lists, but it can be extended to multiple dimensions. The syntax for slicing is `start:stop:step`, where `start` is the starting index (inclusive), `stop` is the ending index (exclusive), and `step` is the increment.\n",
        "\n",
        "For a multi-dimensional array, you provide slices for each dimension, separated by commas."
      ]
    },
    {
      "cell_type": "code",
      "execution_count": null,
      "metadata": {},
      "outputs": [],
      "source": [
        "import numpy as np\n",
        "\n",
        "# Slicing a 1D array\n",
        "arr1d = np.arange(10) # [0, 1, 2, 3, 4, 5, 6, 7, 8, 9]\n",
        "print(f\"Original 1D array: {arr1d}\")\n",
        "\n",
        "# Get elements from index 2 up to (but not including) index 5\n",
        "slice1d = arr1d[2:5]\n",
        "print(f\"Slice from index 2 to 5: {slice1d}\")\n",
        "\n",
        "print(\"-\"*30)\n",
        "\n",
        "# Slicing a 2D array\n",
        "arr2d = np.array([[1, 2, 3, 4], [5, 6, 7, 8], [9, 10, 11, 12]])\n",
        "print(f\"Original 2D array:\\n{arr2d}\")\n",
        "\n",
        "# Slice to get the first two rows and columns from index 1 to the end\n",
        "# For rows, we use :2 (from start up to index 2)\n",
        "# For columns, we use 1: (from index 1 to the end)\n",
        "slice2d = arr2d[:2, 1:]\n",
        "print(f\"\\nSubarray (first 2 rows, columns 1-end):\\n{slice2d}\")"
      ]
    },
    {
      "attachments": {},
      "cell_type": "markdown",
      "metadata": {
        "id": "c1jTMq5AJbS2"
      },
      "source": [
        "# What are some of the available functions for performing element-wise operations on NumPy arrays?"
      ]
    },
    {
      "cell_type": "markdown",
      "metadata": {},
      "source": [
        "NumPy provides a large set of universal functions (ufuncs) that perform element-wise operations on arrays. These are highly optimized and much faster than performing the equivalent operations in a Python loop.\n",
        "\n",
        "Some common element-wise functions include:\n",
        "* **Arithmetic:** `np.add`, `np.subtract`, `np.multiply`, `np.divide`\n",
        "* **Trigonometric:** `np.sin`, `np.cos`, `np.tan`\n",
        "* **Exponents and Logarithms:** `np.exp`, `np.log`, `np.log10`\n",
        "* **Square Root:** `np.sqrt`"
      ]
    },
    {
      "cell_type": "code",
      "execution_count": null,
      "metadata": {},
      "outputs": [],
      "source": [
        "import numpy as np\n",
        "\n",
        "arr1 = np.array([1, 2, 3, 4])\n",
        "arr2 = np.array([5, 6, 7, 8])\n",
        "\n",
        "# Element-wise addition\n",
        "addition = np.add(arr1, arr2) # Same as arr1 + arr2\n",
        "print(f\"Element-wise addition: {addition}\")\n",
        "\n",
        "# Element-wise subtraction\n",
        "subtraction = np.subtract(arr2, arr1) # Same as arr2 - arr1\n",
        "print(f\"Element-wise subtraction: {subtraction}\")\n",
        "\n",
        "# Element-wise multiplication\n",
        "multiplication = np.multiply(arr1, arr2) # Same as arr1 * arr2\n",
        "print(f\"Element-wise multiplication: {multiplication}\")\n",
        "\n",
        "# Element-wise square root\n",
        "sqrt_arr1 = np.sqrt(arr1)\n",
        "print(f\"Element-wise square root of arr1: {sqrt_arr1}\")"
      ]
    },
    {
      "cell_type": "markdown",
      "metadata": {
        "id": "dPgmCPERJe_2"
      },
      "source": [
        "# How do you reshape a NumPy array to have a different shape?"
      ]
    },
    {
      "cell_type": "markdown",
      "metadata": {},
      "source": [
        "You can reshape a NumPy array using the `np.reshape()` function or the `reshape()` method of an array object. Reshaping allows you to change the dimensions of an array without changing its data. The total number of elements in the new shape must be the same as the original array."
      ]
    },
    {
      "cell_type": "code",
      "execution_count": null,
      "metadata": {},
      "outputs": [],
      "source": [
        "import numpy as np\n",
        "\n",
        "# Create a 1D array with 12 elements\n",
        "arr = np.arange(12)\n",
        "print(f\"Original array (shape {arr.shape}):\\n{arr}\")\n",
        "\n",
        "# Reshape the array into a 3x4 matrix (3 rows, 4 columns)\n",
        "reshaped_arr_1 = arr.reshape(3, 4)\n",
        "print(f\"\\nReshaped to 3x4 (shape {reshaped_arr_1.shape}):\\n{reshaped_arr_1}\")\n",
        "\n",
        "# Reshape the array into a 4x3 matrix (4 rows, 3 columns)\n",
        "reshaped_arr_2 = np.reshape(arr, (4, 3))\n",
        "print(f\"\\nReshaped to 4x3 (shape {reshaped_arr_2.shape}):\\n{reshaped_arr_2}\")\n",
        "\n",
        "# One dimension can be -1, which means NumPy will infer its size\n",
        "# For example, reshape to have 2 rows and automatically calculate columns\n",
        "reshaped_arr_3 = arr.reshape(2, -1)\n",
        "print(f\"\\nReshaped to 2 rows (shape {reshaped_arr_3.shape}):\\n{reshaped_arr_3}\")"
      ]
    },
    {
      "attachments": {},
      "cell_type": "markdown",
      "metadata": {},
      "source": [
        "# How do you perform matrix multiplication on two NumPy arrays using the dot() function?"
      ]
    },
    {
      "cell_type": "markdown",
      "metadata": {},
      "source": [
        "Matrix multiplication can be performed using the `np.dot()` function or the `@` operator (for Python 3.5+). For two matrices to be multiplied, the number of columns in the first matrix must be equal to the number of rows in the second matrix.\n",
        "\n",
        "If `A` is an `m x n` matrix and `B` is an `n x p` matrix, their dot product will be an `m x p` matrix."
      ]
    },
    {
      "cell_type": "code",
      "execution_count": null,
      "metadata": {},
      "outputs": [],
      "source": [
        "import numpy as np\n",
        "\n",
        "# Create a 2x3 matrix\n",
        "matrix_a = np.array([[1, 2, 3], [4, 5, 6]]) # Shape: (2, 3)\n",
        "\n",
        "# Create a 3x2 matrix\n",
        "matrix_b = np.array([[7, 8], [9, 10], [11, 12]]) # Shape: (3, 2)\n",
        "\n",
        "print(f\"Matrix A (2x3):\\n{matrix_a}\")\n",
        "print(f\"\\nMatrix B (3x2):\\n{matrix_b}\")\n",
        "\n",
        "# Perform matrix multiplication using np.dot()\n",
        "dot_product = np.dot(matrix_a, matrix_b)\n",
        "print(f\"\\nResult of dot product (2x2):\\n{dot_product}\")\n",
        "\n",
        "# The @ operator can also be used for the same purpose\n",
        "matmul_product = matrix_a @ matrix_b\n",
        "print(f\"\\nResult using @ operator (2x2):\\n{matmul_product}\")"
      ]
    },
    {
      "cell_type": "markdown",
      "metadata": {
        "id": "JtbVS5P0Jodg"
      },
      "source": [
        "# How can you use the where() function to apply a condition to a NumPy array?"
      ]
    },
    {
      "cell_type": "markdown",
      "metadata": {},
      "source": [
        "The `np.where()` function is very powerful for conditional logic on arrays. It takes three arguments: `np.where(condition, x, y)`. It returns elements from `x` where the `condition` is `True`, and elements from `y` where the `condition` is `False`.\n",
        "\n",
        "This allows you to create a new array based on the values of another array without writing explicit loops."
      ]
    },
    {
      "cell_type": "code",
      "execution_count": null,
      "metadata": {},
      "outputs": [],
      "source": [
        "import numpy as np\n",
        "\n",
        "arr = np.arange(1, 11)\n",
        "print(f\"Original array: {arr}\")\n",
        "\n",
        "# Example 1: Replace numbers based on a condition\n",
        "# Let's replace all even numbers with -1 and keep odd numbers as they are\n",
        "# The condition is arr % 2 == 0\n",
        "# If true, use -1. If false, use the original value from arr.\n",
        "new_arr = np.where(arr % 2 == 0, -1, arr)\n",
        "print(f\"Array with even numbers replaced: {new_arr}\")\n",
        "\n",
        "# Example 2: Find the indices where a condition is met\n",
        "# If only the condition is provided, np.where() returns a tuple of indices\n",
        "indices = np.where(arr > 5)\n",
        "print(f\"\\nIndices of elements greater than 5: {indices[0]}\")\n",
        "print(f\"Elements greater than 5: {arr[indices]}\")"
      ]
    },
    {
      "attachments": {},
      "cell_type": "markdown",
      "metadata": {},
      "source": [
        "# What is the difference between the flatten() and ravel() functions in NumPy?"
      ]
    },
    {
      "cell_type": "markdown",
      "metadata": {},
      "source": [
        "Both `flatten()` and `ravel()` are used to convert a multi-dimensional array into a 1D array. The key difference between them lies in how they handle memory:\n",
        "\n",
        "* **`flatten()`:** This function always returns a **copy** of the original array's data. This means that any modifications made to the new flattened array will not affect the original array.\n",
        "\n",
        "* **`ravel()`:** This function returns a **view** of the original array whenever possible. A view is a reference to the original data, so modifying the `ravel`ed array may also modify the original array. It's generally faster and more memory-efficient because it avoids copying data if it doesn't have to."
      ]
    },
    {
      "cell_type": "code",
      "execution_count": null,
      "metadata": {},
      "outputs": [],
      "source": [
        "import numpy as np\n",
        "\n",
        "# Create an original 2D array\n",
        "original_array = np.array([[1, 2], [3, 4]])\n",
        "print(f\"Original array:\\n{original_array}\\n\")\n",
        "\n",
        "# Using flatten()\n",
        "flattened_array = original_array.flatten()\n",
        "flattened_array[0] = 99 # Modify the flattened array\n",
        "print(f\"Flattened array after modification: {flattened_array}\")\n",
        "print(f\"Original array is unchanged:\\n{original_array}\\n\")\n",
        "\n",
        "print(\"-\"*30)\n",
        "\n",
        "# Using ravel()\n",
        "raveled_array = original_array.ravel()\n",
        "raveled_array[0] = 99 # Modify the raveled array\n",
        "print(f\"Raveled array after modification: {raveled_array}\")\n",
        "print(f\"Original array is now changed:\\n{original_array}\")"
      ]
    },
    {
      "attachments": {},
      "cell_type": "markdown",
      "metadata": {},
      "source": [
        "# How do you use NumPy's advanced indexing capabilities to select specific elements from an array?"
      ]
    },
    {
      "cell_type": "markdown",
      "metadata": {},
      "source": [
        "Advanced indexing in NumPy refers to several sophisticated ways of selecting elements, which go beyond simple slicing. The two main types are integer array indexing and boolean array indexing.\n",
        "\n",
        "1.  **Integer Array Indexing:** You can pass a list or NumPy array of integers to select specific elements. For a 1D array, this allows you to pick elements at desired indices. For a 2D array, you can provide a list of row indices and a list of column indices to select specific points.\n",
        "\n",
        "2.  **Boolean Array Indexing:** You can use a boolean array (of the same shape as the original array) to select elements. The elements corresponding to `True` values in the boolean array are selected, while those corresponding to `False` are ignored."
      ]
    },
    {
      "cell_type": "code",
      "execution_count": null,
      "metadata": {},
      "outputs": [],
      "source": [
        "import numpy as np\n",
        "\n",
        "arr = np.arange(10, 20) # [10, 11, 12, 13, 14, 15, 16, 17, 18, 19]\n",
        "print(f\"Original array: {arr}\\n\")\n",
        "\n",
        "# --- Integer Array Indexing ---\n",
        "indices_to_select = [1, 4, 7]\n",
        "selected_elements = arr[indices_to_select]\n",
        "print(f\"Selected elements using integer array: {selected_elements}\")\n",
        "\n",
        "arr2d = np.array([[1, 2, 3], [4, 5, 6], [7, 8, 9]])\n",
        "print(f\"\\n2D Array:\\n{arr2d}\\n\")\n",
        "# Select elements at (row 0, col 1), (row 1, col 2), and (row 2, col 0)\n",
        "selected_points = arr2d[[0, 1, 2], [1, 2, 0]]\n",
        "print(f\"Selected points from 2D array: {selected_points}\")\n",
        "\n",
        "print(\"-\"*30)\n",
        "\n",
        "# --- Boolean Array Indexing ---\n",
        "# Create a boolean condition\n",
        "is_even = (arr % 2 == 0)\n",
        "print(f\"Boolean mask for even numbers: {is_even}\")\n",
        "\n",
        "# Use the boolean array to select elements\n",
        "even_numbers = arr[is_even]\n",
        "print(f\"Selected even numbers: {even_numbers}\")"
      ]
    },
    {
      "attachments": {},
      "cell_type": "markdown",
      "metadata": {
        "id": "b2NpOnu2JxMp"
      },
      "source": [
        "# How can you use NumPy's broadcasting rules to perform operations on arrays with different shapes?"
      ]
    },
    {
      "cell_type": "markdown",
      "metadata": {},
      "source": [
        "NumPy's broadcasting rules allow operations on arrays with different but compatible shapes. Compatibility is determined by two rules:\n",
        "\n",
        "1.  **Rule 1:** If the two arrays differ in their number of dimensions, the shape of the one with fewer dimensions is padded with ones on its leading (left) side.\n",
        "2.  **Rule 2:** If the shape of the two arrays does not match in any dimension, the array with shape equal to 1 in that dimension is stretched to match the other shape.\n",
        "\n",
        "If these conditions are met, the arrays are compatible for broadcasting. If any dimension has mismatched sizes and neither is 1, a `ValueError` is raised."
      ]
    },
    {
      "cell_type": "code",
      "execution_count": null,
      "metadata": {},
      "outputs": [],
      "source": [
        "import numpy as np\n",
        "\n",
        "# Let's add a 2D array (3x3) and a 1D array (3,)\n",
        "A = np.array([[1, 2, 3],\n",
        "              [4, 5, 6],\n",
        "              [7, 8, 9]])\n",
        "B = np.array([10, 20, 30])\n",
        "\n",
        "print(f\"Shape of A: {A.shape}\")\n",
        "print(f\"Shape of B: {B.shape}\\n\")\n",
        "\n",
        "# A has shape (3, 3). B has shape (3,).\n",
        "# Rule 1 doesn't apply as much as Rule 2.\n",
        "# NumPy compares shapes from right to left:\n",
        "# - A's last dimension is 3, B's last dimension is 3. They match.\n",
        "# - A has a preceding dimension of 3, B has no more dimensions.\n",
        "# NumPy 'stretches' or broadcasts B so it can be added to each row of A.\n",
        "\n",
        "result = A + B\n",
        "print(\"Result of A + B:\")\n",
        "print(result)"
      ]
    },
    {
      "cell_type": "markdown",
      "metadata": {
        "id": "XgeHrSj7KzTj"
      },
      "source": [
        "### Project: Array Statistics Calculator\n",
        "**Description:**\n",
        "\n",
        "In this project, you will create a program that allows a user to enter a list of numbers, and then calculates and displays various statistics about those numbers using NumPy.\n",
        "\n",
        "**Requirements:**\n",
        "\n",
        "- The program should prompt the user to enter a list of numbers separated by commas.\n",
        "- The program should use NumPy to convert the input into a 1D NumPy array.\n",
        "- The program should calculate and display the following statistics:\n",
        "- The mean of the numbers\n",
        "- The median of the numbers\n",
        "- The standard deviation of the numbers\n",
        "- The maximum and minimum values of the numbers\n",
        "- The program should use appropriate NumPy functions to calculate the statistics.\n",
        "- The program should display the statistics with appropriate labels.\n",
        "\n",
        "### Sample Output\n",
        "```\n",
        "Enter a list of numbers separated by commas: 2, 5, 7, 3, 1, 9\n",
        "Statistics for the input array:\n",
        "Mean: 4.5\n",
        "Median: 4.0\n",
        "Standard Deviation: 2.9154759474226504\n",
        "Maximum: 9\n",
        "Minimum: 1\n",
        "```"
      ]
    },
    {
      "cell_type": "code",
      "execution_count": 4,
      "metadata": {},
      "outputs": [
        {
          "name": "stdout",
          "output_type": "stream",
          "text": [
            "\n",
            "Statistics for the input array: 1, 3, 5, 6\n",
            "Mean: 3.75\n",
            "Median: 4.0\n",
            "Standard Deviation: 1.920286436967152\n",
            "Maximum: 6.0\n",
            "Minimum: 1.0\n"
          ]
        }
      ],
      "source": [
        "import numpy as np\n",
        "\n",
        "# Prompt the user for input\n",
        "user_input = input(\"Enter a list of numbers separated by commas: \")\n",
        "\n",
        "# Approach:\n",
        "# 1. Split the input string by the comma to get a list of number strings.\n",
        "# 2. Convert each number string into a floating-point number.\n",
        "# 3. Convert the list of numbers into a 1D NumPy array.\n",
        "# 4. Use NumPy functions to calculate the required statistics.\n",
        "# 5. Print the results in a formatted way.\n",
        "# A try-except block is used to handle potential errors if the user enters non-numeric input.\n",
        "\n",
        "try:\n",
        "    # Step 1 & 2: Split the string and convert to a list of floats\n",
        "    str_list = user_input.split(',')\n",
        "    num_list = [float(num) for num in str_list]\n",
        "    \n",
        "    # Step 3: Convert the list into a NumPy array\n",
        "    data_array = np.array(num_list)\n",
        "    \n",
        "    # Step 4: Calculate the statistics using NumPy functions\n",
        "    mean_val = np.mean(data_array)\n",
        "    median_val = np.median(data_array)\n",
        "    std_dev_val = np.std(data_array)\n",
        "    max_val = np.max(data_array)\n",
        "    min_val = np.min(data_array)\n",
        "    \n",
        "    # Step 5: Display the results with appropriate labels\n",
        "    print(\"\\nStatistics for the input array: \" + user_input)\n",
        "    print(f\"Mean: {mean_val}\")\n",
        "    print(f\"Median: {median_val}\")\n",
        "    print(f\"Standard Deviation: {std_dev_val}\")\n",
        "    print(f\"Maximum: {max_val}\")\n",
        "    print(f\"Minimum: {min_val}\")\n",
        "\n",
        "except ValueError:\n",
        "    # Handle cases where the input is not a valid list of numbers\n",
        "    print(\"\\nError: Please enter only numbers, separated by commas.\")"
      ]
    }
  ],
  "metadata": {
    "colab": {
      "provenance": []
    },
    "kernelspec": {
      "display_name": "day1ML",
      "language": "python",
      "name": "python3"
    },
    "language_info": {
      "codemirror_mode": {
        "name": "ipython",
        "version": 3
      },
      "file_extension": ".py",
      "mimetype": "text/x-python",
      "name": "python",
      "nbconvert_exporter": "python",
      "pygments_lexer": "ipython3",
      "version": "3.11.11"
    }
  },
  "nbformat": 4,
  "nbformat_minor": 0
}
